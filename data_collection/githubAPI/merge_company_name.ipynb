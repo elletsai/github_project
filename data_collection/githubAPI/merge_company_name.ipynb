{
 "cells": [
  {
   "cell_type": "markdown",
   "metadata": {},
   "source": [
    "### Merge data with Google Big Query"
   ]
  },
  {
   "cell_type": "code",
   "execution_count": 1,
   "metadata": {
    "ExecuteTime": {
     "end_time": "2020-03-13T00:55:08.725846Z",
     "start_time": "2020-03-13T00:55:08.098758Z"
    }
   },
   "outputs": [],
   "source": [
    "import pandas as pd"
   ]
  },
  {
   "cell_type": "code",
   "execution_count": 2,
   "metadata": {
    "ExecuteTime": {
     "end_time": "2020-03-13T00:55:10.735559Z",
     "start_time": "2020-03-13T00:55:09.749208Z"
    }
   },
   "outputs": [],
   "source": [
    "bq = pd.read_csv('data/bq_company.csv')\n",
    "web = pd.read_csv('data/web_company_data.csv')\n",
    "patent = pd.read_csv('data/Company_Patent.csv')"
   ]
  },
  {
   "cell_type": "code",
   "execution_count": 3,
   "metadata": {
    "ExecuteTime": {
     "end_time": "2020-03-13T00:55:10.818931Z",
     "start_time": "2020-03-13T00:55:10.773569Z"
    }
   },
   "outputs": [
    {
     "data": {
      "text/html": [
       "<div>\n",
       "<style scoped>\n",
       "    .dataframe tbody tr th:only-of-type {\n",
       "        vertical-align: middle;\n",
       "    }\n",
       "\n",
       "    .dataframe tbody tr th {\n",
       "        vertical-align: top;\n",
       "    }\n",
       "\n",
       "    .dataframe thead th {\n",
       "        text-align: right;\n",
       "    }\n",
       "</style>\n",
       "<table border=\"1\" class=\"dataframe\">\n",
       "  <thead>\n",
       "    <tr style=\"text-align: right;\">\n",
       "      <th></th>\n",
       "      <th>firm_name</th>\n",
       "      <th>fyear</th>\n",
       "      <th>unique_firm_id</th>\n",
       "    </tr>\n",
       "  </thead>\n",
       "  <tbody>\n",
       "    <tr>\n",
       "      <th>213188</th>\n",
       "      <td>Harward Irrigation Systems, Inc.</td>\n",
       "      <td>1987</td>\n",
       "      <td>213189</td>\n",
       "    </tr>\n",
       "    <tr>\n",
       "      <th>213189</th>\n",
       "      <td>Southern Ionics Incorporated</td>\n",
       "      <td>2007</td>\n",
       "      <td>213190</td>\n",
       "    </tr>\n",
       "    <tr>\n",
       "      <th>213190</th>\n",
       "      <td>iMatte, Inc.</td>\n",
       "      <td>2001</td>\n",
       "      <td>213191</td>\n",
       "    </tr>\n",
       "    <tr>\n",
       "      <th>213191</th>\n",
       "      <td>Bergman Design Consortium</td>\n",
       "      <td>2004</td>\n",
       "      <td>213192</td>\n",
       "    </tr>\n",
       "    <tr>\n",
       "      <th>213192</th>\n",
       "      <td>LEDS America, Inc.</td>\n",
       "      <td>2014</td>\n",
       "      <td>213193</td>\n",
       "    </tr>\n",
       "  </tbody>\n",
       "</table>\n",
       "</div>"
      ],
      "text/plain": [
       "                               firm_name  fyear  unique_firm_id\n",
       "213188  Harward Irrigation Systems, Inc.   1987          213189\n",
       "213189      Southern Ionics Incorporated   2007          213190\n",
       "213190                      iMatte, Inc.   2001          213191\n",
       "213191         Bergman Design Consortium   2004          213192\n",
       "213192                LEDS America, Inc.   2014          213193"
      ]
     },
     "execution_count": 3,
     "metadata": {},
     "output_type": "execute_result"
    }
   ],
   "source": [
    "patent.dropna(inplace = True)\n",
    "patent.tail()"
   ]
  },
  {
   "cell_type": "code",
   "execution_count": 4,
   "metadata": {
    "ExecuteTime": {
     "end_time": "2020-03-13T00:55:10.896393Z",
     "start_time": "2020-03-13T00:55:10.856779Z"
    }
   },
   "outputs": [],
   "source": [
    "patent.rename(columns = {'firm_name': 'company_name'}, inplace = True)"
   ]
  },
  {
   "cell_type": "markdown",
   "metadata": {},
   "source": [
    "### Convert uppercase to lowercase"
   ]
  },
  {
   "cell_type": "code",
   "execution_count": 5,
   "metadata": {
    "ExecuteTime": {
     "end_time": "2020-03-13T00:55:12.386771Z",
     "start_time": "2020-03-13T00:55:11.939919Z"
    }
   },
   "outputs": [],
   "source": [
    "bq['lower'] = bq['company_name'].apply(lambda x: x.lower())\n",
    "web['lower'] = web['company_name'].apply(lambda x: x.lower())\n",
    "patent['lower'] = patent['company_name'].apply(lambda x: x.lower())\n"
   ]
  },
  {
   "cell_type": "markdown",
   "metadata": {},
   "source": [
    "### Merge - 1206 company names"
   ]
  },
  {
   "cell_type": "code",
   "execution_count": 6,
   "metadata": {
    "ExecuteTime": {
     "end_time": "2020-03-13T00:55:13.384236Z",
     "start_time": "2020-03-13T00:55:12.657765Z"
    }
   },
   "outputs": [
    {
     "data": {
      "text/plain": [
       "143"
      ]
     },
     "execution_count": 6,
     "metadata": {},
     "output_type": "execute_result"
    }
   ],
   "source": [
    "merge_company_name = list(bq.merge(patent, on = 'lower', how = 'inner')['lower'])\n",
    "len(merge_company_name)"
   ]
  },
  {
   "cell_type": "code",
   "execution_count": 7,
   "metadata": {
    "ExecuteTime": {
     "end_time": "2020-03-13T00:55:13.934922Z",
     "start_time": "2020-03-13T00:55:13.431192Z"
    }
   },
   "outputs": [],
   "source": [
    "merge_company_name.extend(list(bq.merge(web, on = 'lower', how = 'inner')['lower']))"
   ]
  },
  {
   "cell_type": "code",
   "execution_count": 8,
   "metadata": {
    "ExecuteTime": {
     "end_time": "2020-03-13T00:55:13.976463Z",
     "start_time": "2020-03-13T00:55:13.970862Z"
    }
   },
   "outputs": [
    {
     "data": {
      "text/plain": [
       "1851"
      ]
     },
     "execution_count": 8,
     "metadata": {},
     "output_type": "execute_result"
    }
   ],
   "source": [
    "merge_company_name = list(set(merge_company_name))\n",
    "len(merge_company_name)"
   ]
  },
  {
   "cell_type": "code",
   "execution_count": 9,
   "metadata": {
    "ExecuteTime": {
     "end_time": "2020-03-13T00:55:14.050987Z",
     "start_time": "2020-03-13T00:55:14.018481Z"
    },
    "scrolled": true
   },
   "outputs": [
    {
     "data": {
      "text/plain": [
       "False"
      ]
     },
     "execution_count": 9,
     "metadata": {},
     "output_type": "execute_result"
    }
   ],
   "source": [
    "'facebook' in list(patent['company_name'])"
   ]
  },
  {
   "cell_type": "code",
   "execution_count": 10,
   "metadata": {
    "ExecuteTime": {
     "end_time": "2020-03-13T00:55:14.258810Z",
     "start_time": "2020-03-13T00:55:14.251283Z"
    }
   },
   "outputs": [
    {
     "data": {
      "text/plain": [
       "True"
      ]
     },
     "execution_count": 10,
     "metadata": {},
     "output_type": "execute_result"
    }
   ],
   "source": [
    "'microsoft' in merge_company_name"
   ]
  },
  {
   "cell_type": "markdown",
   "metadata": {},
   "source": [
    "### Get number of repo for merged company\n",
    "Add tensorflow"
   ]
  },
  {
   "cell_type": "code",
   "execution_count": 11,
   "metadata": {
    "ExecuteTime": {
     "end_time": "2020-03-13T00:55:15.443251Z",
     "start_time": "2020-03-13T00:55:15.439929Z"
    }
   },
   "outputs": [],
   "source": [
    "merge_company_name.append('tensorflow')"
   ]
  },
  {
   "cell_type": "code",
   "execution_count": 12,
   "metadata": {
    "ExecuteTime": {
     "end_time": "2020-03-13T00:55:19.831950Z",
     "start_time": "2020-03-13T00:55:15.647588Z"
    }
   },
   "outputs": [
    {
     "data": {
      "text/html": [
       "<div>\n",
       "<style scoped>\n",
       "    .dataframe tbody tr th:only-of-type {\n",
       "        vertical-align: middle;\n",
       "    }\n",
       "\n",
       "    .dataframe tbody tr th {\n",
       "        vertical-align: top;\n",
       "    }\n",
       "\n",
       "    .dataframe thead th {\n",
       "        text-align: right;\n",
       "    }\n",
       "</style>\n",
       "<table border=\"1\" class=\"dataframe\">\n",
       "  <thead>\n",
       "    <tr style=\"text-align: right;\">\n",
       "      <th></th>\n",
       "      <th>repo_name</th>\n",
       "      <th>company_name</th>\n",
       "      <th>lower</th>\n",
       "    </tr>\n",
       "  </thead>\n",
       "  <tbody>\n",
       "    <tr>\n",
       "      <th>0</th>\n",
       "      <td>0--------------------------------------/Trivia...</td>\n",
       "      <td>0--------------------------------------</td>\n",
       "      <td>0--------------------------------------</td>\n",
       "    </tr>\n",
       "    <tr>\n",
       "      <th>1</th>\n",
       "      <td>0----0/sauna</td>\n",
       "      <td>0----0</td>\n",
       "      <td>0----0</td>\n",
       "    </tr>\n",
       "    <tr>\n",
       "      <th>2</th>\n",
       "      <td>0--key/0--key.github.io</td>\n",
       "      <td>0--key</td>\n",
       "      <td>0--key</td>\n",
       "    </tr>\n",
       "    <tr>\n",
       "      <th>3</th>\n",
       "      <td>0--key/lib</td>\n",
       "      <td>0--key</td>\n",
       "      <td>0--key</td>\n",
       "    </tr>\n",
       "    <tr>\n",
       "      <th>4</th>\n",
       "      <td>0--key/org-pub</td>\n",
       "      <td>0--key</td>\n",
       "      <td>0--key</td>\n",
       "    </tr>\n",
       "  </tbody>\n",
       "</table>\n",
       "</div>"
      ],
      "text/plain": [
       "                                           repo_name  \\\n",
       "0  0--------------------------------------/Trivia...   \n",
       "1                                       0----0/sauna   \n",
       "2                            0--key/0--key.github.io   \n",
       "3                                         0--key/lib   \n",
       "4                                     0--key/org-pub   \n",
       "\n",
       "                              company_name  \\\n",
       "0  0--------------------------------------   \n",
       "1                                   0----0   \n",
       "2                                   0--key   \n",
       "3                                   0--key   \n",
       "4                                   0--key   \n",
       "\n",
       "                                     lower  \n",
       "0  0--------------------------------------  \n",
       "1                                   0----0  \n",
       "2                                   0--key  \n",
       "3                                   0--key  \n",
       "4                                   0--key  "
      ]
     },
     "execution_count": 12,
     "metadata": {},
     "output_type": "execute_result"
    }
   ],
   "source": [
    "bq_repo = pd.read_csv('data/bq_merge_repo_name.csv')\n",
    "bq_repo['lower'] = bq_repo['company_name'].apply(lambda x: x.lower())\n",
    "bq_repo.head()"
   ]
  },
  {
   "cell_type": "code",
   "execution_count": 13,
   "metadata": {
    "ExecuteTime": {
     "end_time": "2020-03-13T00:55:19.896696Z",
     "start_time": "2020-03-13T00:55:19.887164Z"
    }
   },
   "outputs": [
    {
     "data": {
      "text/html": [
       "<div>\n",
       "<style scoped>\n",
       "    .dataframe tbody tr th:only-of-type {\n",
       "        vertical-align: middle;\n",
       "    }\n",
       "\n",
       "    .dataframe tbody tr th {\n",
       "        vertical-align: top;\n",
       "    }\n",
       "\n",
       "    .dataframe thead th {\n",
       "        text-align: right;\n",
       "    }\n",
       "</style>\n",
       "<table border=\"1\" class=\"dataframe\">\n",
       "  <thead>\n",
       "    <tr style=\"text-align: right;\">\n",
       "      <th></th>\n",
       "      <th>lower</th>\n",
       "    </tr>\n",
       "  </thead>\n",
       "  <tbody>\n",
       "    <tr>\n",
       "      <th>0</th>\n",
       "      <td>comco</td>\n",
       "    </tr>\n",
       "    <tr>\n",
       "      <th>1</th>\n",
       "      <td>stitch</td>\n",
       "    </tr>\n",
       "    <tr>\n",
       "      <th>2</th>\n",
       "      <td>juxt</td>\n",
       "    </tr>\n",
       "    <tr>\n",
       "      <th>3</th>\n",
       "      <td>squarescale</td>\n",
       "    </tr>\n",
       "    <tr>\n",
       "      <th>4</th>\n",
       "      <td>bloomberg</td>\n",
       "    </tr>\n",
       "  </tbody>\n",
       "</table>\n",
       "</div>"
      ],
      "text/plain": [
       "         lower\n",
       "0        comco\n",
       "1       stitch\n",
       "2         juxt\n",
       "3  squarescale\n",
       "4    bloomberg"
      ]
     },
     "execution_count": 13,
     "metadata": {},
     "output_type": "execute_result"
    }
   ],
   "source": [
    "merge = pd.DataFrame(data = merge_company_name, \n",
    "             columns = ['lower'])\n",
    "merge.head()"
   ]
  },
  {
   "cell_type": "code",
   "execution_count": 14,
   "metadata": {
    "ExecuteTime": {
     "end_time": "2020-03-13T00:55:21.042863Z",
     "start_time": "2020-03-13T00:55:19.969568Z"
    },
    "scrolled": false
   },
   "outputs": [
    {
     "data": {
      "text/plain": [
       "(16467, 3)"
      ]
     },
     "execution_count": 14,
     "metadata": {},
     "output_type": "execute_result"
    }
   ],
   "source": [
    "merge_df = bq_repo.merge(merge, on = 'lower', how = 'inner')\n",
    "merge_df.shape"
   ]
  },
  {
   "cell_type": "code",
   "execution_count": 16,
   "metadata": {
    "ExecuteTime": {
     "end_time": "2020-03-13T00:55:45.989604Z",
     "start_time": "2020-03-13T00:55:45.943845Z"
    }
   },
   "outputs": [],
   "source": [
    "merge_df.iloc[:, :2].to_csv('merge_bq_repo_name.csv', index = False)"
   ]
  },
  {
   "cell_type": "code",
   "execution_count": 45,
   "metadata": {
    "ExecuteTime": {
     "end_time": "2020-03-11T20:58:00.321509Z",
     "start_time": "2020-03-11T20:58:00.215328Z"
    }
   },
   "outputs": [],
   "source": [
    "merge_df.to_csv('merge_bq_repo_name.csv', index = False, header = None)"
   ]
  },
  {
   "cell_type": "code",
   "execution_count": 42,
   "metadata": {
    "ExecuteTime": {
     "end_time": "2020-03-11T20:20:22.534715Z",
     "start_time": "2020-03-11T20:20:22.503000Z"
    },
    "scrolled": true
   },
   "outputs": [
    {
     "data": {
      "text/html": [
       "<div>\n",
       "<style scoped>\n",
       "    .dataframe tbody tr th:only-of-type {\n",
       "        vertical-align: middle;\n",
       "    }\n",
       "\n",
       "    .dataframe tbody tr th {\n",
       "        vertical-align: top;\n",
       "    }\n",
       "\n",
       "    .dataframe thead th {\n",
       "        text-align: right;\n",
       "    }\n",
       "</style>\n",
       "<table border=\"1\" class=\"dataframe\">\n",
       "  <thead>\n",
       "    <tr style=\"text-align: right;\">\n",
       "      <th></th>\n",
       "      <th>repo_name</th>\n",
       "      <th>company_name</th>\n",
       "      <th>lower</th>\n",
       "    </tr>\n",
       "  </thead>\n",
       "  <tbody>\n",
       "    <tr>\n",
       "      <th>4278</th>\n",
       "      <td>airbnb/AirMapView</td>\n",
       "      <td>airbnb</td>\n",
       "      <td>airbnb</td>\n",
       "    </tr>\n",
       "    <tr>\n",
       "      <th>4279</th>\n",
       "      <td>airbnb/Backbone-relational</td>\n",
       "      <td>airbnb</td>\n",
       "      <td>airbnb</td>\n",
       "    </tr>\n",
       "    <tr>\n",
       "      <th>4280</th>\n",
       "      <td>airbnb/RxGroups</td>\n",
       "      <td>airbnb</td>\n",
       "      <td>airbnb</td>\n",
       "    </tr>\n",
       "    <tr>\n",
       "      <th>4281</th>\n",
       "      <td>airbnb/aerosolve</td>\n",
       "      <td>airbnb</td>\n",
       "      <td>airbnb</td>\n",
       "    </tr>\n",
       "    <tr>\n",
       "      <th>4282</th>\n",
       "      <td>airbnb/airflow</td>\n",
       "      <td>airbnb</td>\n",
       "      <td>airbnb</td>\n",
       "    </tr>\n",
       "    <tr>\n",
       "      <th>...</th>\n",
       "      <td>...</td>\n",
       "      <td>...</td>\n",
       "      <td>...</td>\n",
       "    </tr>\n",
       "    <tr>\n",
       "      <th>4341</th>\n",
       "      <td>airbnb/tapkulibrary</td>\n",
       "      <td>airbnb</td>\n",
       "      <td>airbnb</td>\n",
       "    </tr>\n",
       "    <tr>\n",
       "      <th>4342</th>\n",
       "      <td>airbnb/wechat-rails</td>\n",
       "      <td>airbnb</td>\n",
       "      <td>airbnb</td>\n",
       "    </tr>\n",
       "    <tr>\n",
       "      <th>4343</th>\n",
       "      <td>airbnb/wraithdb</td>\n",
       "      <td>airbnb</td>\n",
       "      <td>airbnb</td>\n",
       "    </tr>\n",
       "    <tr>\n",
       "      <th>4344</th>\n",
       "      <td>airbnb/zendesk_api_client_rb</td>\n",
       "      <td>airbnb</td>\n",
       "      <td>airbnb</td>\n",
       "    </tr>\n",
       "    <tr>\n",
       "      <th>4345</th>\n",
       "      <td>airbnb/zonify</td>\n",
       "      <td>airbnb</td>\n",
       "      <td>airbnb</td>\n",
       "    </tr>\n",
       "  </tbody>\n",
       "</table>\n",
       "<p>68 rows × 3 columns</p>\n",
       "</div>"
      ],
      "text/plain": [
       "                         repo_name company_name   lower\n",
       "4278             airbnb/AirMapView       airbnb  airbnb\n",
       "4279    airbnb/Backbone-relational       airbnb  airbnb\n",
       "4280               airbnb/RxGroups       airbnb  airbnb\n",
       "4281              airbnb/aerosolve       airbnb  airbnb\n",
       "4282                airbnb/airflow       airbnb  airbnb\n",
       "...                            ...          ...     ...\n",
       "4341           airbnb/tapkulibrary       airbnb  airbnb\n",
       "4342           airbnb/wechat-rails       airbnb  airbnb\n",
       "4343               airbnb/wraithdb       airbnb  airbnb\n",
       "4344  airbnb/zendesk_api_client_rb       airbnb  airbnb\n",
       "4345                 airbnb/zonify       airbnb  airbnb\n",
       "\n",
       "[68 rows x 3 columns]"
      ]
     },
     "execution_count": 42,
     "metadata": {},
     "output_type": "execute_result"
    }
   ],
   "source": [
    "merge_df[merge_df['company_name'] == 'airbnb']"
   ]
  },
  {
   "cell_type": "code",
   "execution_count": 16,
   "metadata": {
    "ExecuteTime": {
     "end_time": "2020-03-10T02:08:34.162112Z",
     "start_time": "2020-03-10T02:08:34.150324Z"
    }
   },
   "outputs": [
    {
     "data": {
      "text/plain": [
       "True"
      ]
     },
     "execution_count": 16,
     "metadata": {},
     "output_type": "execute_result"
    }
   ],
   "source": [
    "'tensorflow' in list(merge_df['lower'])"
   ]
  },
  {
   "cell_type": "markdown",
   "metadata": {},
   "source": [
    "### Fuzzy Merge"
   ]
  },
  {
   "cell_type": "code",
   "execution_count": 44,
   "metadata": {
    "ExecuteTime": {
     "end_time": "2020-03-09T16:02:43.162376Z",
     "start_time": "2020-03-09T16:02:43.143896Z"
    }
   },
   "outputs": [
    {
     "name": "stderr",
     "output_type": "stream",
     "text": [
      "/Users/ellesmac/anaconda3/lib/python3.7/site-packages/fuzzywuzzy/fuzz.py:11: UserWarning: Using slow pure-python SequenceMatcher. Install python-Levenshtein to remove this warning\n",
      "  warnings.warn('Using slow pure-python SequenceMatcher. Install python-Levenshtein to remove this warning')\n"
     ]
    }
   ],
   "source": [
    "from fuzzywuzzy import fuzz\n",
    "from fuzzywuzzy import process"
   ]
  },
  {
   "cell_type": "code",
   "execution_count": 47,
   "metadata": {
    "ExecuteTime": {
     "end_time": "2020-03-09T16:09:30.710422Z",
     "start_time": "2020-03-09T16:09:30.704024Z"
    }
   },
   "outputs": [
    {
     "data": {
      "text/plain": [
       "94"
      ]
     },
     "execution_count": 47,
     "metadata": {},
     "output_type": "execute_result"
    }
   ],
   "source": [
    "fuzz.token_sort_ratio(\"Catherine Gitau M.\", \"Gitau Catherine\")"
   ]
  },
  {
   "cell_type": "code",
   "execution_count": 48,
   "metadata": {
    "ExecuteTime": {
     "end_time": "2020-03-09T16:11:05.287917Z",
     "start_time": "2020-03-09T16:11:05.277222Z"
    }
   },
   "outputs": [],
   "source": [
    "def fuzzy_merge(df_1, df_2, key1, key2, threshold=90, limit=2):\n",
    "    \"\"\"\n",
    "    df_1 is the left table to join\n",
    "    df_2 is the right table to join\n",
    "    key1 is the key column of the left table\n",
    "    key2 is the key column of the right table\n",
    "    threshold is how close the matches should be to return a match, based on Levenshtein distance\n",
    "    limit is the amount of matches that will get returned, these are sorted high to low\n",
    "    \"\"\"\n",
    "    s = df_2[key2].tolist()\n",
    "\n",
    "    m = df_1[key1].apply(lambda x: process.extract(x, s, limit=limit))    \n",
    "    df_1['matches'] = m\n",
    "\n",
    "    m2 = df_1['matches'].apply(lambda x: ', '.join([i[0] for i in x if i[1] >= threshold]))\n",
    "    df_1['matches'] = m2\n",
    "\n",
    "    return df_1"
   ]
  },
  {
   "cell_type": "code",
   "execution_count": null,
   "metadata": {
    "ExecuteTime": {
     "end_time": "2020-03-09T16:46:17.562480Z",
     "start_time": "2020-03-09T16:43:53.777925Z"
    }
   },
   "outputs": [],
   "source": [
    "for i in tqdm(range(1)):\n",
    "    fuzzy_merge(bq, web, 'company_name', 'company_name', threshold=80)\n"
   ]
  },
  {
   "cell_type": "code",
   "execution_count": null,
   "metadata": {},
   "outputs": [],
   "source": []
  }
 ],
 "metadata": {
  "kernelspec": {
   "display_name": "Python 3",
   "language": "python",
   "name": "python3"
  },
  "language_info": {
   "codemirror_mode": {
    "name": "ipython",
    "version": 3
   },
   "file_extension": ".py",
   "mimetype": "text/x-python",
   "name": "python",
   "nbconvert_exporter": "python",
   "pygments_lexer": "ipython3",
   "version": "3.7.1"
  },
  "latex_envs": {
   "LaTeX_envs_menu_present": true,
   "autoclose": false,
   "autocomplete": true,
   "bibliofile": "biblio.bib",
   "cite_by": "apalike",
   "current_citInitial": 1,
   "eqLabelWithNumbers": true,
   "eqNumInitial": 1,
   "hotkeys": {
    "equation": "Ctrl-E",
    "itemize": "Ctrl-I"
   },
   "labels_anchors": false,
   "latex_user_defs": false,
   "report_style_numbering": false,
   "user_envs_cfg": false
  },
  "toc": {
   "base_numbering": 1,
   "nav_menu": {},
   "number_sections": true,
   "sideBar": true,
   "skip_h1_title": false,
   "title_cell": "Table of Contents",
   "title_sidebar": "Contents",
   "toc_cell": false,
   "toc_position": {},
   "toc_section_display": true,
   "toc_window_display": false
  },
  "varInspector": {
   "cols": {
    "lenName": 16,
    "lenType": 16,
    "lenVar": 40
   },
   "kernels_config": {
    "python": {
     "delete_cmd_postfix": "",
     "delete_cmd_prefix": "del ",
     "library": "var_list.py",
     "varRefreshCmd": "print(var_dic_list())"
    },
    "r": {
     "delete_cmd_postfix": ") ",
     "delete_cmd_prefix": "rm(",
     "library": "var_list.r",
     "varRefreshCmd": "cat(var_dic_list()) "
    }
   },
   "types_to_exclude": [
    "module",
    "function",
    "builtin_function_or_method",
    "instance",
    "_Feature"
   ],
   "window_display": false
  }
 },
 "nbformat": 4,
 "nbformat_minor": 2
}

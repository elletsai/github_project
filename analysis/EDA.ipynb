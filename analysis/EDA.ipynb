{
 "cells": [
  {
   "cell_type": "markdown",
   "metadata": {},
   "source": [
    "# Exploratory Data Analysis\n",
    "- draw histogram for star, issue, pull, fork, branch, and release\n",
    "- table to compare ml_module created time and bq content time"
   ]
  },
  {
   "cell_type": "code",
   "execution_count": 65,
   "metadata": {},
   "outputs": [],
   "source": [
    "import pandas as pd\n",
    "import seaborn as sns\n",
    "import numpy as np\n",
    "import matplotlib.pyplot as plt\n",
    "%matplotlib inline\n",
    "\n",
    "pd.set_option('display.max_columns', 500)\n",
    "pd.set_option('display.max_rows', 500)\n"
   ]
  },
  {
   "cell_type": "code",
   "execution_count": 5,
   "metadata": {},
   "outputs": [
    {
     "data": {
      "text/html": [
       "<div>\n",
       "<style scoped>\n",
       "    .dataframe tbody tr th:only-of-type {\n",
       "        vertical-align: middle;\n",
       "    }\n",
       "\n",
       "    .dataframe tbody tr th {\n",
       "        vertical-align: top;\n",
       "    }\n",
       "\n",
       "    .dataframe thead th {\n",
       "        text-align: right;\n",
       "    }\n",
       "</style>\n",
       "<table border=\"1\" class=\"dataframe\">\n",
       "  <thead>\n",
       "    <tr style=\"text-align: right;\">\n",
       "      <th></th>\n",
       "      <th>repo</th>\n",
       "      <th>commit_year</th>\n",
       "      <th>commit_month</th>\n",
       "      <th>datetime</th>\n",
       "      <th>ml_commit</th>\n",
       "      <th>commit_count</th>\n",
       "      <th>fork_count</th>\n",
       "      <th>release_count</th>\n",
       "      <th>pulls_count</th>\n",
       "      <th>branch_count</th>\n",
       "      <th>...</th>\n",
       "      <th>haveScrapy</th>\n",
       "      <th>haveLime</th>\n",
       "      <th>havePattern</th>\n",
       "      <th>haveMetric_learn</th>\n",
       "      <th>haveMars</th>\n",
       "      <th>haveNetwork</th>\n",
       "      <th>haveCaffee</th>\n",
       "      <th>haveSympy</th>\n",
       "      <th>haveMxnet</th>\n",
       "      <th>haveAstropy</th>\n",
       "    </tr>\n",
       "  </thead>\n",
       "  <tbody>\n",
       "    <tr>\n",
       "      <th>0</th>\n",
       "      <td>18F/rdbms-subsetter</td>\n",
       "      <td>2014</td>\n",
       "      <td>10</td>\n",
       "      <td>2014-10-01</td>\n",
       "      <td>NaN</td>\n",
       "      <td>4.0</td>\n",
       "      <td>NaN</td>\n",
       "      <td>NaN</td>\n",
       "      <td>NaN</td>\n",
       "      <td>NaN</td>\n",
       "      <td>...</td>\n",
       "      <td>NaN</td>\n",
       "      <td>NaN</td>\n",
       "      <td>NaN</td>\n",
       "      <td>NaN</td>\n",
       "      <td>NaN</td>\n",
       "      <td>NaN</td>\n",
       "      <td>NaN</td>\n",
       "      <td>NaN</td>\n",
       "      <td>NaN</td>\n",
       "      <td>NaN</td>\n",
       "    </tr>\n",
       "    <tr>\n",
       "      <th>1</th>\n",
       "      <td>18F/rdbms-subsetter</td>\n",
       "      <td>2014</td>\n",
       "      <td>11</td>\n",
       "      <td>2014-11-01</td>\n",
       "      <td>NaN</td>\n",
       "      <td>20.0</td>\n",
       "      <td>NaN</td>\n",
       "      <td>NaN</td>\n",
       "      <td>NaN</td>\n",
       "      <td>NaN</td>\n",
       "      <td>...</td>\n",
       "      <td>NaN</td>\n",
       "      <td>NaN</td>\n",
       "      <td>NaN</td>\n",
       "      <td>NaN</td>\n",
       "      <td>NaN</td>\n",
       "      <td>NaN</td>\n",
       "      <td>NaN</td>\n",
       "      <td>NaN</td>\n",
       "      <td>NaN</td>\n",
       "      <td>NaN</td>\n",
       "    </tr>\n",
       "    <tr>\n",
       "      <th>2</th>\n",
       "      <td>18F/rdbms-subsetter</td>\n",
       "      <td>2014</td>\n",
       "      <td>12</td>\n",
       "      <td>2014-12-01</td>\n",
       "      <td>NaN</td>\n",
       "      <td>10.0</td>\n",
       "      <td>NaN</td>\n",
       "      <td>NaN</td>\n",
       "      <td>NaN</td>\n",
       "      <td>NaN</td>\n",
       "      <td>...</td>\n",
       "      <td>NaN</td>\n",
       "      <td>NaN</td>\n",
       "      <td>NaN</td>\n",
       "      <td>NaN</td>\n",
       "      <td>NaN</td>\n",
       "      <td>NaN</td>\n",
       "      <td>NaN</td>\n",
       "      <td>NaN</td>\n",
       "      <td>NaN</td>\n",
       "      <td>NaN</td>\n",
       "    </tr>\n",
       "    <tr>\n",
       "      <th>3</th>\n",
       "      <td>18F/rdbms-subsetter</td>\n",
       "      <td>2015</td>\n",
       "      <td>1</td>\n",
       "      <td>2015-01-01</td>\n",
       "      <td>NaN</td>\n",
       "      <td>5.0</td>\n",
       "      <td>7.0</td>\n",
       "      <td>NaN</td>\n",
       "      <td>NaN</td>\n",
       "      <td>NaN</td>\n",
       "      <td>...</td>\n",
       "      <td>NaN</td>\n",
       "      <td>NaN</td>\n",
       "      <td>NaN</td>\n",
       "      <td>NaN</td>\n",
       "      <td>NaN</td>\n",
       "      <td>NaN</td>\n",
       "      <td>NaN</td>\n",
       "      <td>NaN</td>\n",
       "      <td>NaN</td>\n",
       "      <td>NaN</td>\n",
       "    </tr>\n",
       "    <tr>\n",
       "      <th>4</th>\n",
       "      <td>18F/rdbms-subsetter</td>\n",
       "      <td>2015</td>\n",
       "      <td>2</td>\n",
       "      <td>2015-02-01</td>\n",
       "      <td>NaN</td>\n",
       "      <td>8.0</td>\n",
       "      <td>3.0</td>\n",
       "      <td>NaN</td>\n",
       "      <td>NaN</td>\n",
       "      <td>NaN</td>\n",
       "      <td>...</td>\n",
       "      <td>NaN</td>\n",
       "      <td>NaN</td>\n",
       "      <td>NaN</td>\n",
       "      <td>NaN</td>\n",
       "      <td>NaN</td>\n",
       "      <td>NaN</td>\n",
       "      <td>NaN</td>\n",
       "      <td>NaN</td>\n",
       "      <td>NaN</td>\n",
       "      <td>NaN</td>\n",
       "    </tr>\n",
       "  </tbody>\n",
       "</table>\n",
       "<p>5 rows × 40 columns</p>\n",
       "</div>"
      ],
      "text/plain": [
       "                  repo  commit_year  commit_month    datetime  ml_commit  \\\n",
       "0  18F/rdbms-subsetter         2014            10  2014-10-01        NaN   \n",
       "1  18F/rdbms-subsetter         2014            11  2014-11-01        NaN   \n",
       "2  18F/rdbms-subsetter         2014            12  2014-12-01        NaN   \n",
       "3  18F/rdbms-subsetter         2015             1  2015-01-01        NaN   \n",
       "4  18F/rdbms-subsetter         2015             2  2015-02-01        NaN   \n",
       "\n",
       "   commit_count  fork_count  release_count  pulls_count  branch_count  ...  \\\n",
       "0           4.0         NaN            NaN          NaN           NaN  ...   \n",
       "1          20.0         NaN            NaN          NaN           NaN  ...   \n",
       "2          10.0         NaN            NaN          NaN           NaN  ...   \n",
       "3           5.0         7.0            NaN          NaN           NaN  ...   \n",
       "4           8.0         3.0            NaN          NaN           NaN  ...   \n",
       "\n",
       "   haveScrapy  haveLime  havePattern  haveMetric_learn  haveMars  haveNetwork  \\\n",
       "0         NaN       NaN          NaN               NaN       NaN          NaN   \n",
       "1         NaN       NaN          NaN               NaN       NaN          NaN   \n",
       "2         NaN       NaN          NaN               NaN       NaN          NaN   \n",
       "3         NaN       NaN          NaN               NaN       NaN          NaN   \n",
       "4         NaN       NaN          NaN               NaN       NaN          NaN   \n",
       "\n",
       "   haveCaffee  haveSympy  haveMxnet  haveAstropy  \n",
       "0         NaN        NaN        NaN          NaN  \n",
       "1         NaN        NaN        NaN          NaN  \n",
       "2         NaN        NaN        NaN          NaN  \n",
       "3         NaN        NaN        NaN          NaN  \n",
       "4         NaN        NaN        NaN          NaN  \n",
       "\n",
       "[5 rows x 40 columns]"
      ]
     },
     "execution_count": 5,
     "metadata": {},
     "output_type": "execute_result"
    }
   ],
   "source": [
    "df = pd.read_csv('df_commit_v3.csv')\n",
    "df.head()"
   ]
  },
  {
   "cell_type": "markdown",
   "metadata": {},
   "source": [
    "### Add columns for diff in diff"
   ]
  },
  {
   "cell_type": "code",
   "execution_count": 9,
   "metadata": {},
   "outputs": [],
   "source": [
    "df['log_commit'] = np.log(df['commit_count']+ .1) # ln transformation\n",
    "df['log_fork'] = np.log(df['fork_count']+.1)\n",
    "df['log_release'] = np.log(df['release_count']+.1)\n",
    "df['log_branch'] = np.log(df['branch_count']+.1)\n",
    "df['log_issue'] = np.log(df['issue_count']+.1)\n",
    "df['log_pull'] = np.log(df['pulls_count']+.1)\n",
    "df['log_fork'] = np.log(df['fork_count']+.1)\n",
    "df['log_stargazer'] = np.log(df['stargazer_count']+.1)\n",
    "\n",
    "df['company'] = df['repo'].apply(lambda x: x.split('/')[0]) # get repo's company"
   ]
  },
  {
   "cell_type": "code",
   "execution_count": 12,
   "metadata": {},
   "outputs": [],
   "source": [
    "df.rename(columns = {'pulls_count': 'pull_count'}, inplace = True)"
   ]
  },
  {
   "cell_type": "code",
   "execution_count": 64,
   "metadata": {},
   "outputs": [],
   "source": [
    "df.to_csv('df_commit_v3.csv', index = False)"
   ]
  },
  {
   "cell_type": "code",
   "execution_count": 16,
   "metadata": {},
   "outputs": [
    {
     "data": {
      "text/plain": [
       "498"
      ]
     },
     "execution_count": 16,
     "metadata": {},
     "output_type": "execute_result"
    }
   ],
   "source": [
    "df.repo.nunique()"
   ]
  },
  {
   "cell_type": "markdown",
   "metadata": {},
   "source": [
    "### Historgram of counts"
   ]
  },
  {
   "cell_type": "code",
   "execution_count": 18,
   "metadata": {},
   "outputs": [
    {
     "name": "stderr",
     "output_type": "stream",
     "text": [
      "/home/yt9mh/.conda/envs/elle/lib/python3.8/site-packages/numpy/lib/histograms.py:839: RuntimeWarning: invalid value encountered in greater_equal\n",
      "  keep = (tmp_a >= first_edge)\n",
      "/home/yt9mh/.conda/envs/elle/lib/python3.8/site-packages/numpy/lib/histograms.py:840: RuntimeWarning: invalid value encountered in less_equal\n",
      "  keep &= (tmp_a <= last_edge)\n"
     ]
    },
    {
     "data": {
      "image/png": "[encoded data removed]",
      "text/plain": [
       "<Figure size 1080x576 with 6 Axes>"
      ]
     },
     "metadata": {
      "needs_background": "light"
     },
     "output_type": "display_data"
    }
   ],
   "source": [
    "fig, axs = plt.subplots(2, 3,figsize=(15,8))\n",
    "\n",
    "\n",
    "# axs[0, 0].hist(df['commit_count'])\n",
    "axs[0, 0].hist(df['log_commit'])\n",
    "axs[0, 0].set_title('commit_count')\n",
    "# axs[0, 1].hist(final['fork_count'])\n",
    "axs[0, 1].hist(df['log_fork'])\n",
    "axs[0, 1].set_title('fork_count')\n",
    "# axs[0, 2].hist(df['pull_count'])\n",
    "axs[0, 2].hist(df['log_pull'])\n",
    "axs[0, 2].set_title('pull_count')\n",
    "# axs[1, 0].hist(df['issue_count'])\n",
    "axs[1, 0].hist(df['log_issue'])\n",
    "axs[1, 0].set_title('issue_count')\n",
    "# axs[1, 1].hist(df['branch_count'])\n",
    "axs[1, 1].hist(df['log_branch'])\n",
    "axs[1, 1].set_title('branch_count')\n",
    "# axs[1, 2].hist(df['release_count'])\n",
    "axs[1, 2].hist(df['log_release'])\n",
    "axs[1, 2].set_title('release_count')\n",
    "\n",
    "\n",
    "# Hide x labels and tick labels for top plots and y ticks for right plots.\n",
    "for ax in axs.flat:\n",
    "    ax.label_outer()\n",
    "\n",
    "\n",
    "\n"
   ]
  },
  {
   "cell_type": "markdown",
   "metadata": {},
   "source": [
    "### Repo using ml module created time and commit time"
   ]
  },
  {
   "cell_type": "code",
   "execution_count": 26,
   "metadata": {},
   "outputs": [],
   "source": [
    "time = pd.read_csv('time_diff_v3.csv')"
   ]
  },
  {
   "cell_type": "code",
   "execution_count": 22,
   "metadata": {},
   "outputs": [],
   "source": [
    "def to_datetime(df, col):\n",
    "    df[col] = pd.to_datetime(df[col])\n"
   ]
  },
  {
   "cell_type": "code",
   "execution_count": 40,
   "metadata": {},
   "outputs": [
    {
     "data": {
      "text/plain": [
       "[None, None, None, None]"
      ]
     },
     "execution_count": 40,
     "metadata": {},
     "output_type": "execute_result"
    }
   ],
   "source": [
    "[to_datetime(time, i) for i in list(time)[1:5]]"
   ]
  },
  {
   "cell_type": "markdown",
   "metadata": {},
   "source": [
    "### How many repo is bq time more closer to last commit time?\n",
    "\n",
    "calculate no machine learning bq-create time "
   ]
  },
  {
   "cell_type": "code",
   "execution_count": 41,
   "metadata": {},
   "outputs": [
    {
     "data": {
      "text/html": [
       "<div>\n",
       "<style scoped>\n",
       "    .dataframe tbody tr th:only-of-type {\n",
       "        vertical-align: middle;\n",
       "    }\n",
       "\n",
       "    .dataframe tbody tr th {\n",
       "        vertical-align: top;\n",
       "    }\n",
       "\n",
       "    .dataframe thead th {\n",
       "        text-align: right;\n",
       "    }\n",
       "</style>\n",
       "<table border=\"1\" class=\"dataframe\">\n",
       "  <thead>\n",
       "    <tr style=\"text-align: right;\">\n",
       "      <th></th>\n",
       "      <th>repo</th>\n",
       "      <th>bq_content_first</th>\n",
       "      <th>ml_commit_first</th>\n",
       "      <th>first_commit</th>\n",
       "      <th>last_commit</th>\n",
       "      <th>bq-ml</th>\n",
       "      <th>first-bq</th>\n",
       "      <th>bq-last</th>\n",
       "    </tr>\n",
       "  </thead>\n",
       "  <tbody>\n",
       "    <tr>\n",
       "      <th>0</th>\n",
       "      <td>18F/rdbms-subsetter</td>\n",
       "      <td>2017-10-01</td>\n",
       "      <td>2017-10-01</td>\n",
       "      <td>2014-10-01</td>\n",
       "      <td>2017-12-01</td>\n",
       "      <td>0.0</td>\n",
       "      <td>36.0</td>\n",
       "      <td>2.0</td>\n",
       "    </tr>\n",
       "    <tr>\n",
       "      <th>1</th>\n",
       "      <td>6aika/issue-reporting</td>\n",
       "      <td>2016-02-01</td>\n",
       "      <td>2016-11-01</td>\n",
       "      <td>2016-02-01</td>\n",
       "      <td>2017-05-01</td>\n",
       "      <td>9.0</td>\n",
       "      <td>0.0</td>\n",
       "      <td>15.0</td>\n",
       "    </tr>\n",
       "    <tr>\n",
       "      <th>2</th>\n",
       "      <td>Asana/bazel</td>\n",
       "      <td>2015-02-01</td>\n",
       "      <td>2016-03-01</td>\n",
       "      <td>2015-02-01</td>\n",
       "      <td>2017-03-01</td>\n",
       "      <td>13.0</td>\n",
       "      <td>0.0</td>\n",
       "      <td>25.0</td>\n",
       "    </tr>\n",
       "    <tr>\n",
       "      <th>3</th>\n",
       "      <td>Asana/boto</td>\n",
       "      <td>2006-08-01</td>\n",
       "      <td>2014-07-01</td>\n",
       "      <td>2006-08-01</td>\n",
       "      <td>2016-03-01</td>\n",
       "      <td>95.0</td>\n",
       "      <td>0.0</td>\n",
       "      <td>115.0</td>\n",
       "    </tr>\n",
       "    <tr>\n",
       "      <th>4</th>\n",
       "      <td>Autodesk/molecular-design-toolkit</td>\n",
       "      <td>2016-06-01</td>\n",
       "      <td>2016-07-01</td>\n",
       "      <td>2016-05-01</td>\n",
       "      <td>2017-12-01</td>\n",
       "      <td>1.0</td>\n",
       "      <td>1.0</td>\n",
       "      <td>18.0</td>\n",
       "    </tr>\n",
       "    <tr>\n",
       "      <th>...</th>\n",
       "      <td>...</td>\n",
       "      <td>...</td>\n",
       "      <td>...</td>\n",
       "      <td>...</td>\n",
       "      <td>...</td>\n",
       "      <td>...</td>\n",
       "      <td>...</td>\n",
       "      <td>...</td>\n",
       "    </tr>\n",
       "    <tr>\n",
       "      <th>493</th>\n",
       "      <td>yahoo/TensorFlowOnSpark</td>\n",
       "      <td>2017-01-01</td>\n",
       "      <td>2018-05-01</td>\n",
       "      <td>2017-01-01</td>\n",
       "      <td>2020-03-01</td>\n",
       "      <td>16.0</td>\n",
       "      <td>0.0</td>\n",
       "      <td>38.0</td>\n",
       "    </tr>\n",
       "    <tr>\n",
       "      <th>494</th>\n",
       "      <td>yahoo/lopq</td>\n",
       "      <td>2015-12-01</td>\n",
       "      <td>2015-12-01</td>\n",
       "      <td>2015-12-01</td>\n",
       "      <td>2017-12-01</td>\n",
       "      <td>0.0</td>\n",
       "      <td>0.0</td>\n",
       "      <td>24.0</td>\n",
       "    </tr>\n",
       "    <tr>\n",
       "      <th>495</th>\n",
       "      <td>yahoo/serviceping</td>\n",
       "      <td>2015-05-01</td>\n",
       "      <td>2017-01-01</td>\n",
       "      <td>2015-05-01</td>\n",
       "      <td>2020-03-01</td>\n",
       "      <td>20.0</td>\n",
       "      <td>0.0</td>\n",
       "      <td>58.0</td>\n",
       "    </tr>\n",
       "    <tr>\n",
       "      <th>496</th>\n",
       "      <td>zadgroup/edx-platform</td>\n",
       "      <td>2011-12-01</td>\n",
       "      <td>2013-05-01</td>\n",
       "      <td>2011-12-01</td>\n",
       "      <td>2015-07-01</td>\n",
       "      <td>17.0</td>\n",
       "      <td>0.0</td>\n",
       "      <td>43.0</td>\n",
       "    </tr>\n",
       "    <tr>\n",
       "      <th>497</th>\n",
       "      <td>zegami/image-similarity-clustering</td>\n",
       "      <td>2017-09-01</td>\n",
       "      <td>2017-09-01</td>\n",
       "      <td>2017-09-01</td>\n",
       "      <td>2020-03-01</td>\n",
       "      <td>0.0</td>\n",
       "      <td>0.0</td>\n",
       "      <td>30.0</td>\n",
       "    </tr>\n",
       "  </tbody>\n",
       "</table>\n",
       "<p>498 rows × 8 columns</p>\n",
       "</div>"
      ],
      "text/plain": [
       "                                   repo bq_content_first ml_commit_first  \\\n",
       "0                   18F/rdbms-subsetter       2017-10-01      2017-10-01   \n",
       "1                 6aika/issue-reporting       2016-02-01      2016-11-01   \n",
       "2                           Asana/bazel       2015-02-01      2016-03-01   \n",
       "3                            Asana/boto       2006-08-01      2014-07-01   \n",
       "4     Autodesk/molecular-design-toolkit       2016-06-01      2016-07-01   \n",
       "..                                  ...              ...             ...   \n",
       "493             yahoo/TensorFlowOnSpark       2017-01-01      2018-05-01   \n",
       "494                          yahoo/lopq       2015-12-01      2015-12-01   \n",
       "495                   yahoo/serviceping       2015-05-01      2017-01-01   \n",
       "496               zadgroup/edx-platform       2011-12-01      2013-05-01   \n",
       "497  zegami/image-similarity-clustering       2017-09-01      2017-09-01   \n",
       "\n",
       "    first_commit last_commit  bq-ml  first-bq  bq-last  \n",
       "0     2014-10-01  2017-12-01    0.0      36.0      2.0  \n",
       "1     2016-02-01  2017-05-01    9.0       0.0     15.0  \n",
       "2     2015-02-01  2017-03-01   13.0       0.0     25.0  \n",
       "3     2006-08-01  2016-03-01   95.0       0.0    115.0  \n",
       "4     2016-05-01  2017-12-01    1.0       1.0     18.0  \n",
       "..           ...         ...    ...       ...      ...  \n",
       "493   2017-01-01  2020-03-01   16.0       0.0     38.0  \n",
       "494   2015-12-01  2017-12-01    0.0       0.0     24.0  \n",
       "495   2015-05-01  2020-03-01   20.0       0.0     58.0  \n",
       "496   2011-12-01  2015-07-01   17.0       0.0     43.0  \n",
       "497   2017-09-01  2020-03-01    0.0       0.0     30.0  \n",
       "\n",
       "[498 rows x 8 columns]"
      ]
     },
     "execution_count": 41,
     "metadata": {},
     "output_type": "execute_result"
    }
   ],
   "source": [
    "time['bq-ml'] = round((time['ml_commit_first'] - time['bq_content_first'])/ np.timedelta64(1, 'M'))\n",
    "time['first-bq'] = round((time['bq_content_first'] - time['first_commit'])/ np.timedelta64(1, 'M'))\n",
    "time['bq-last'] = round((time['last_commit'] - time['bq_content_first'])/ np.timedelta64(1, 'M'))\n",
    "time"
   ]
  },
  {
   "cell_type": "code",
   "execution_count": 42,
   "metadata": {},
   "outputs": [
    {
     "data": {
      "text/html": [
       "<div>\n",
       "<style scoped>\n",
       "    .dataframe tbody tr th:only-of-type {\n",
       "        vertical-align: middle;\n",
       "    }\n",
       "\n",
       "    .dataframe tbody tr th {\n",
       "        vertical-align: top;\n",
       "    }\n",
       "\n",
       "    .dataframe thead th {\n",
       "        text-align: right;\n",
       "    }\n",
       "</style>\n",
       "<table border=\"1\" class=\"dataframe\">\n",
       "  <thead>\n",
       "    <tr style=\"text-align: right;\">\n",
       "      <th></th>\n",
       "      <th>repo</th>\n",
       "      <th>bq_content_first</th>\n",
       "      <th>ml_commit_first</th>\n",
       "      <th>first_commit</th>\n",
       "      <th>last_commit</th>\n",
       "      <th>bq-ml</th>\n",
       "      <th>first-bq</th>\n",
       "      <th>bq-last</th>\n",
       "    </tr>\n",
       "  </thead>\n",
       "  <tbody>\n",
       "    <tr>\n",
       "      <th>0</th>\n",
       "      <td>18F/rdbms-subsetter</td>\n",
       "      <td>2017-10-01</td>\n",
       "      <td>2017-10-01</td>\n",
       "      <td>2014-10-01</td>\n",
       "      <td>2017-12-01</td>\n",
       "      <td>0.0</td>\n",
       "      <td>36.0</td>\n",
       "      <td>2.0</td>\n",
       "    </tr>\n",
       "    <tr>\n",
       "      <th>5</th>\n",
       "      <td>Brilliant/sinaweibo_crawler</td>\n",
       "      <td>2015-03-01</td>\n",
       "      <td>2015-03-01</td>\n",
       "      <td>2015-01-01</td>\n",
       "      <td>2015-03-01</td>\n",
       "      <td>0.0</td>\n",
       "      <td>2.0</td>\n",
       "      <td>0.0</td>\n",
       "    </tr>\n",
       "    <tr>\n",
       "      <th>13</th>\n",
       "      <td>DataDog/vbench</td>\n",
       "      <td>2013-06-01</td>\n",
       "      <td>2013-06-01</td>\n",
       "      <td>2011-11-01</td>\n",
       "      <td>2013-07-01</td>\n",
       "      <td>0.0</td>\n",
       "      <td>19.0</td>\n",
       "      <td>1.0</td>\n",
       "    </tr>\n",
       "    <tr>\n",
       "      <th>23</th>\n",
       "      <td>MateLabs/All-Conv-Keras</td>\n",
       "      <td>2017-06-01</td>\n",
       "      <td>2017-06-01</td>\n",
       "      <td>2017-03-01</td>\n",
       "      <td>2017-08-01</td>\n",
       "      <td>0.0</td>\n",
       "      <td>3.0</td>\n",
       "      <td>2.0</td>\n",
       "    </tr>\n",
       "    <tr>\n",
       "      <th>35</th>\n",
       "      <td>Runscope/graphite-beacon</td>\n",
       "      <td>2015-09-01</td>\n",
       "      <td>2015-09-01</td>\n",
       "      <td>2014-10-01</td>\n",
       "      <td>2015-09-01</td>\n",
       "      <td>0.0</td>\n",
       "      <td>11.0</td>\n",
       "      <td>0.0</td>\n",
       "    </tr>\n",
       "  </tbody>\n",
       "</table>\n",
       "</div>"
      ],
      "text/plain": [
       "                           repo bq_content_first ml_commit_first first_commit  \\\n",
       "0           18F/rdbms-subsetter       2017-10-01      2017-10-01   2014-10-01   \n",
       "5   Brilliant/sinaweibo_crawler       2015-03-01      2015-03-01   2015-01-01   \n",
       "13               DataDog/vbench       2013-06-01      2013-06-01   2011-11-01   \n",
       "23      MateLabs/All-Conv-Keras       2017-06-01      2017-06-01   2017-03-01   \n",
       "35     Runscope/graphite-beacon       2015-09-01      2015-09-01   2014-10-01   \n",
       "\n",
       "   last_commit  bq-ml  first-bq  bq-last  \n",
       "0   2017-12-01    0.0      36.0      2.0  \n",
       "5   2015-03-01    0.0       2.0      0.0  \n",
       "13  2013-07-01    0.0      19.0      1.0  \n",
       "23  2017-08-01    0.0       3.0      2.0  \n",
       "35  2015-09-01    0.0      11.0      0.0  "
      ]
     },
     "execution_count": 42,
     "metadata": {},
     "output_type": "execute_result"
    }
   ],
   "source": [
    "late = time[time['first-bq'] > time['bq-last']]\n",
    "late.head()"
   ]
  },
  {
   "cell_type": "markdown",
   "metadata": {},
   "source": [
    "### Average created_at for late"
   ]
  },
  {
   "cell_type": "code",
   "execution_count": 47,
   "metadata": {},
   "outputs": [],
   "source": [
    "late_year = late['first_commit'].apply(lambda x: x.year)\n",
    "# late_year.value_counts()"
   ]
  },
  {
   "cell_type": "code",
   "execution_count": 48,
   "metadata": {},
   "outputs": [],
   "source": [
    "all_year = time['first_commit'].apply(lambda x: x.year)\n",
    "# all_year.value_counts()"
   ]
  },
  {
   "cell_type": "code",
   "execution_count": 49,
   "metadata": {},
   "outputs": [
    {
     "data": {
      "image/png": "[encoded data removed]",
      "text/plain": [
       "<Figure size 432x288 with 1 Axes>"
      ]
     },
     "metadata": {
      "needs_background": "light"
     },
     "output_type": "display_data"
    }
   ],
   "source": [
    "plt.hist(all_year, label = 'all')\n",
    "plt.hist(late_year, label = 'bq late')\n",
    "plt.legend();"
   ]
  },
  {
   "cell_type": "markdown",
   "metadata": {},
   "source": [
    "## Month difference between bq content record and ml commit"
   ]
  },
  {
   "cell_type": "code",
   "execution_count": 51,
   "metadata": {},
   "outputs": [
    {
     "data": {
      "image/png": "[encoded data removed]",
      "text/plain": [
       "<Figure size 432x288 with 1 Axes>"
      ]
     },
     "metadata": {
      "needs_background": "light"
     },
     "output_type": "display_data"
    }
   ],
   "source": [
    "plt.hist(time['bq-ml']);"
   ]
  },
  {
   "cell_type": "markdown",
   "metadata": {},
   "source": [
    "### Statistic\n",
    "\n",
    " number  | have ml |\n",
    "------| ---- | \n",
    "company | 150 | \n",
    "repo | 498 | "
   ]
  }
 ],
 "metadata": {
  "kernelspec": {
   "display_name": "elle",
   "language": "python",
   "name": "elle"
  },
  "language_info": {
   "codemirror_mode": {
    "name": "ipython",
    "version": 3
   },
   "file_extension": ".py",
   "mimetype": "text/x-python",
   "name": "python",
   "nbconvert_exporter": "python",
   "pygments_lexer": "ipython3",
   "version": "3.8.0"
  }
 },
 "nbformat": 4,
 "nbformat_minor": 4
}

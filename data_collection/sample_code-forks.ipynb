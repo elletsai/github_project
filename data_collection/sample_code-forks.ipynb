{
 "cells": [
  {
   "cell_type": "markdown",
   "metadata": {},
   "source": [
    "### Sample code - forks count"
   ]
  },
  {
   "cell_type": "code",
   "execution_count": 1,
   "metadata": {
    "ExecuteTime": {
     "end_time": "2020-03-13T00:58:55.758956Z",
     "start_time": "2020-03-13T00:58:55.041806Z"
    }
   },
   "outputs": [
    {
     "data": {
      "text/plain": [
       "(16467, 2)"
      ]
     },
     "execution_count": 1,
     "metadata": {},
     "output_type": "execute_result"
    }
   ],
   "source": [
    "import pandas as pd\n",
    "merge = pd.read_csv('data/merge_bq_repo_name.csv') # merge_bq_repo_name is the repo name I merged \n",
    "merge.shape"
   ]
  },
  {
   "cell_type": "code",
   "execution_count": 2,
   "metadata": {
    "ExecuteTime": {
     "end_time": "2020-03-13T00:58:57.696283Z",
     "start_time": "2020-03-13T00:58:57.686825Z"
    },
    "scrolled": true
   },
   "outputs": [
    {
     "data": {
      "text/html": [
       "<div>\n",
       "<style scoped>\n",
       "    .dataframe tbody tr th:only-of-type {\n",
       "        vertical-align: middle;\n",
       "    }\n",
       "\n",
       "    .dataframe tbody tr th {\n",
       "        vertical-align: top;\n",
       "    }\n",
       "\n",
       "    .dataframe thead th {\n",
       "        text-align: right;\n",
       "    }\n",
       "</style>\n",
       "<table border=\"1\" class=\"dataframe\">\n",
       "  <thead>\n",
       "    <tr style=\"text-align: right;\">\n",
       "      <th></th>\n",
       "      <th>repo_name</th>\n",
       "      <th>company_name</th>\n",
       "    </tr>\n",
       "  </thead>\n",
       "  <tbody>\n",
       "    <tr>\n",
       "      <th>0</th>\n",
       "      <td>000webhost/000webhost-sdk-js</td>\n",
       "      <td>000webhost</td>\n",
       "    </tr>\n",
       "    <tr>\n",
       "      <th>1</th>\n",
       "      <td>100dayproject/polymer-web-example</td>\n",
       "      <td>100dayproject</td>\n",
       "    </tr>\n",
       "    <tr>\n",
       "      <th>2</th>\n",
       "      <td>18F/18f-cf-release</td>\n",
       "      <td>18F</td>\n",
       "    </tr>\n",
       "    <tr>\n",
       "      <th>3</th>\n",
       "      <td>18F/api-program</td>\n",
       "      <td>18F</td>\n",
       "    </tr>\n",
       "    <tr>\n",
       "      <th>4</th>\n",
       "      <td>18F/caddy-boshrelease</td>\n",
       "      <td>18F</td>\n",
       "    </tr>\n",
       "  </tbody>\n",
       "</table>\n",
       "</div>"
      ],
      "text/plain": [
       "                           repo_name   company_name\n",
       "0       000webhost/000webhost-sdk-js     000webhost\n",
       "1  100dayproject/polymer-web-example  100dayproject\n",
       "2                 18F/18f-cf-release            18F\n",
       "3                    18F/api-program            18F\n",
       "4              18F/caddy-boshrelease            18F"
      ]
     },
     "execution_count": 2,
     "metadata": {},
     "output_type": "execute_result"
    }
   ],
   "source": [
    "merge.head()"
   ]
  },
  {
   "cell_type": "code",
   "execution_count": 3,
   "metadata": {
    "ExecuteTime": {
     "end_time": "2020-03-13T00:59:54.935484Z",
     "start_time": "2020-03-13T00:59:54.925381Z"
    }
   },
   "outputs": [
    {
     "data": {
      "text/plain": [
       "16467"
      ]
     },
     "execution_count": 3,
     "metadata": {},
     "output_type": "execute_result"
    }
   ],
   "source": [
    "merge_repo = list(merge['repo_name']) # get only repo name from dataset\n",
    "len(merge_repo)"
   ]
  },
  {
   "cell_type": "markdown",
   "metadata": {},
   "source": [
    "### Create pickle to save data in every iteration"
   ]
  },
  {
   "cell_type": "code",
   "execution_count": 55,
   "metadata": {
    "ExecuteTime": {
     "end_time": "2020-03-13T01:40:45.677466Z",
     "start_time": "2020-03-13T01:40:45.673523Z"
    }
   },
   "outputs": [],
   "source": [
    "# -- save picle  \n",
    "import pickle\n",
    "filepath = 'fork_time.pkl'\n",
    "\n",
    "def batch(time_list):\n",
    "    \n",
    "    with open(filepath, 'ab') as f:\n",
    "        pickle.dump(time_list, f)"
   ]
  },
  {
   "cell_type": "code",
   "execution_count": null,
   "metadata": {
    "ExecuteTime": {
     "end_time": "2020-03-13T01:52:46.046165Z",
     "start_time": "2020-03-13T01:52:43.811412Z"
    },
    "scrolled": true
   },
   "outputs": [],
   "source": [
    "import requests\n",
    "from itertools import chain\n",
    "auth = ('vivi-yu05', 'c968bef9cda4907d6280ba241a72043360584715') # this can be get from your github account\n",
    "fork_time = []\n",
    "\n",
    "for j in range(len(merge_repo)):\n",
    "\n",
    "    page = 1\n",
    "    while True: \n",
    "        \n",
    "        # use github API to scrape data\n",
    "        get = requests.get('https://api.github.com/repos/'+ str(merge_repo[j]) +'/forks?page='+ str(page) +'&per_page=100',\n",
    "                      auth = auth)\n",
    "        get_json = json.loads(get.text)\n",
    "        \n",
    "        if len(get_json) == 0: # if there is nothing inside, break out of the loop and look for next repo\n",
    "            break\n",
    "        for i in range(len(get_json)):\n",
    "            repo_query_list = ['full_name', 'created_at', 'pushed_at', 'updated_at'] # get only this data\n",
    "            \n",
    "            repo_tuple = tuple([merge_repo[j]]) # save the repo name first\n",
    "            repo_tuple += tuple(get_json[i][x] for x in repo_query_list) # save data in repo_quiery_list\n",
    "            batch(repo_tuple) # call batch function to save repo_tuple in a pickle file\n",
    "        page += 1 \n",
    "    print(j) # print which repo we are scraping\n",
    "    \n",
    "    "
   ]
  },
  {
   "cell_type": "markdown",
   "metadata": {},
   "source": [
    "### Read from pickle"
   ]
  },
  {
   "cell_type": "code",
   "execution_count": 90,
   "metadata": {
    "ExecuteTime": {
     "end_time": "2020-03-13T01:52:52.111201Z",
     "start_time": "2020-03-13T01:52:52.095394Z"
    }
   },
   "outputs": [
    {
     "data": {
      "text/html": [
       "<div>\n",
       "<style scoped>\n",
       "    .dataframe tbody tr th:only-of-type {\n",
       "        vertical-align: middle;\n",
       "    }\n",
       "\n",
       "    .dataframe tbody tr th {\n",
       "        vertical-align: top;\n",
       "    }\n",
       "\n",
       "    .dataframe thead th {\n",
       "        text-align: right;\n",
       "    }\n",
       "</style>\n",
       "<table border=\"1\" class=\"dataframe\">\n",
       "  <thead>\n",
       "    <tr style=\"text-align: right;\">\n",
       "      <th></th>\n",
       "      <th>repo_name</th>\n",
       "      <th>fork_full_name</th>\n",
       "      <th>created_at</th>\n",
       "      <th>pushed_at</th>\n",
       "      <th>updated_at</th>\n",
       "    </tr>\n",
       "  </thead>\n",
       "  <tbody>\n",
       "    <tr>\n",
       "      <th>0</th>\n",
       "      <td>000webhost/000webhost-sdk-js</td>\n",
       "      <td>yuutaasaba/000webhost-sdk-js</td>\n",
       "      <td>2018-05-06T20:08:50Z</td>\n",
       "      <td>2018-04-13T11:52:01Z</td>\n",
       "      <td>2018-05-06T20:08:52Z</td>\n",
       "    </tr>\n",
       "    <tr>\n",
       "      <th>1</th>\n",
       "      <td>000webhost/000webhost-sdk-js</td>\n",
       "      <td>minotoki/000webhost-sdk-js</td>\n",
       "      <td>2017-10-30T08:04:02Z</td>\n",
       "      <td>2017-10-25T07:49:06Z</td>\n",
       "      <td>2017-10-30T08:04:04Z</td>\n",
       "    </tr>\n",
       "    <tr>\n",
       "      <th>2</th>\n",
       "      <td>18F/18f-cf-release</td>\n",
       "      <td>CNXTEoEorg/cg-cf-release</td>\n",
       "      <td>2017-07-14T04:24:44Z</td>\n",
       "      <td>2017-06-01T00:01:36Z</td>\n",
       "      <td>2017-07-14T04:24:46Z</td>\n",
       "    </tr>\n",
       "    <tr>\n",
       "      <th>3</th>\n",
       "      <td>18F/18f-cf-release</td>\n",
       "      <td>cnelson/cg-cf-release</td>\n",
       "      <td>2016-04-19T14:03:21Z</td>\n",
       "      <td>2016-05-05T14:34:56Z</td>\n",
       "      <td>2016-04-19T14:03:22Z</td>\n",
       "    </tr>\n",
       "    <tr>\n",
       "      <th>4</th>\n",
       "      <td>18F/api-program</td>\n",
       "      <td>CNXTEoEorg/api-program</td>\n",
       "      <td>2017-07-14T05:12:50Z</td>\n",
       "      <td>2017-04-27T17:09:29Z</td>\n",
       "      <td>2017-07-14T05:12:52Z</td>\n",
       "    </tr>\n",
       "    <tr>\n",
       "      <th>5</th>\n",
       "      <td>18F/api-program</td>\n",
       "      <td>jrtorres42/api-program</td>\n",
       "      <td>2016-08-28T05:37:47Z</td>\n",
       "      <td>2016-08-21T23:53:30Z</td>\n",
       "      <td>2016-08-28T05:37:48Z</td>\n",
       "    </tr>\n",
       "    <tr>\n",
       "      <th>6</th>\n",
       "      <td>18F/api-program</td>\n",
       "      <td>din982/api-program</td>\n",
       "      <td>2016-08-12T11:01:12Z</td>\n",
       "      <td>2016-08-10T16:07:00Z</td>\n",
       "      <td>2016-08-12T11:01:18Z</td>\n",
       "    </tr>\n",
       "    <tr>\n",
       "      <th>7</th>\n",
       "      <td>18F/api-program</td>\n",
       "      <td>djeraseit/api-program</td>\n",
       "      <td>2016-06-07T23:53:03Z</td>\n",
       "      <td>2016-04-28T18:11:06Z</td>\n",
       "      <td>2016-06-07T23:53:04Z</td>\n",
       "    </tr>\n",
       "    <tr>\n",
       "      <th>8</th>\n",
       "      <td>18F/api-program</td>\n",
       "      <td>GUI/api-program</td>\n",
       "      <td>2016-03-02T20:02:55Z</td>\n",
       "      <td>2016-03-02T20:21:03Z</td>\n",
       "      <td>2016-03-02T20:02:55Z</td>\n",
       "    </tr>\n",
       "    <tr>\n",
       "      <th>9</th>\n",
       "      <td>18F/api-program</td>\n",
       "      <td>OpenGlobe/api-program</td>\n",
       "      <td>2016-01-29T20:44:41Z</td>\n",
       "      <td>2016-01-29T20:56:23Z</td>\n",
       "      <td>2016-01-29T20:44:44Z</td>\n",
       "    </tr>\n",
       "    <tr>\n",
       "      <th>10</th>\n",
       "      <td>18F/api-program</td>\n",
       "      <td>anthonygarvan/api-program</td>\n",
       "      <td>2015-09-04T15:20:31Z</td>\n",
       "      <td>2015-09-04T15:58:10Z</td>\n",
       "      <td>2015-09-04T15:20:31Z</td>\n",
       "    </tr>\n",
       "    <tr>\n",
       "      <th>11</th>\n",
       "      <td>18F/api-program</td>\n",
       "      <td>dhcole/API-Program</td>\n",
       "      <td>2015-04-02T20:45:44Z</td>\n",
       "      <td>2015-04-02T21:33:51Z</td>\n",
       "      <td>2015-02-08T05:51:12Z</td>\n",
       "    </tr>\n",
       "    <tr>\n",
       "      <th>12</th>\n",
       "      <td>18F/caddy-boshrelease</td>\n",
       "      <td>dystudio/caddy-boshrelease</td>\n",
       "      <td>2019-11-13T05:44:31Z</td>\n",
       "      <td>2016-02-07T04:12:12Z</td>\n",
       "      <td>2019-11-13T05:44:33Z</td>\n",
       "    </tr>\n",
       "    <tr>\n",
       "      <th>13</th>\n",
       "      <td>18F/caddy-boshrelease</td>\n",
       "      <td>enterstudio/caddy-boshrelease</td>\n",
       "      <td>2018-09-11T06:29:11Z</td>\n",
       "      <td>2016-02-07T04:12:12Z</td>\n",
       "      <td>2018-09-11T06:29:13Z</td>\n",
       "    </tr>\n",
       "    <tr>\n",
       "      <th>14</th>\n",
       "      <td>18F/caddy-boshrelease</td>\n",
       "      <td>firefoxxy8/caddy-boshrelease</td>\n",
       "      <td>2018-06-25T16:48:15Z</td>\n",
       "      <td>2016-02-07T04:12:12Z</td>\n",
       "      <td>2018-06-25T16:48:16Z</td>\n",
       "    </tr>\n",
       "    <tr>\n",
       "      <th>15</th>\n",
       "      <td>18F/caddy-boshrelease</td>\n",
       "      <td>digideskio/caddy-boshrelease</td>\n",
       "      <td>2017-05-14T04:13:00Z</td>\n",
       "      <td>2016-02-07T04:12:12Z</td>\n",
       "      <td>2017-05-14T04:13:02Z</td>\n",
       "    </tr>\n",
       "    <tr>\n",
       "      <th>16</th>\n",
       "      <td>18F/caddy-boshrelease</td>\n",
       "      <td>dlapiduz/caddy-boshrelease</td>\n",
       "      <td>2017-03-02T16:42:51Z</td>\n",
       "      <td>2017-04-05T15:11:36Z</td>\n",
       "      <td>2017-03-02T16:42:54Z</td>\n",
       "    </tr>\n",
       "    <tr>\n",
       "      <th>17</th>\n",
       "      <td>18F/cf-abacus</td>\n",
       "      <td>anukat2015/cf-abacus</td>\n",
       "      <td>2016-03-30T19:40:34Z</td>\n",
       "      <td>2016-03-14T20:31:40Z</td>\n",
       "      <td>2019-11-26T19:08:10Z</td>\n",
       "    </tr>\n",
       "  </tbody>\n",
       "</table>\n",
       "</div>"
      ],
      "text/plain": [
       "                       repo_name                 fork_full_name  \\\n",
       "0   000webhost/000webhost-sdk-js   yuutaasaba/000webhost-sdk-js   \n",
       "1   000webhost/000webhost-sdk-js     minotoki/000webhost-sdk-js   \n",
       "2             18F/18f-cf-release       CNXTEoEorg/cg-cf-release   \n",
       "3             18F/18f-cf-release          cnelson/cg-cf-release   \n",
       "4                18F/api-program         CNXTEoEorg/api-program   \n",
       "5                18F/api-program         jrtorres42/api-program   \n",
       "6                18F/api-program             din982/api-program   \n",
       "7                18F/api-program          djeraseit/api-program   \n",
       "8                18F/api-program                GUI/api-program   \n",
       "9                18F/api-program          OpenGlobe/api-program   \n",
       "10               18F/api-program      anthonygarvan/api-program   \n",
       "11               18F/api-program             dhcole/API-Program   \n",
       "12         18F/caddy-boshrelease     dystudio/caddy-boshrelease   \n",
       "13         18F/caddy-boshrelease  enterstudio/caddy-boshrelease   \n",
       "14         18F/caddy-boshrelease   firefoxxy8/caddy-boshrelease   \n",
       "15         18F/caddy-boshrelease   digideskio/caddy-boshrelease   \n",
       "16         18F/caddy-boshrelease     dlapiduz/caddy-boshrelease   \n",
       "17                 18F/cf-abacus           anukat2015/cf-abacus   \n",
       "\n",
       "              created_at             pushed_at            updated_at  \n",
       "0   2018-05-06T20:08:50Z  2018-04-13T11:52:01Z  2018-05-06T20:08:52Z  \n",
       "1   2017-10-30T08:04:02Z  2017-10-25T07:49:06Z  2017-10-30T08:04:04Z  \n",
       "2   2017-07-14T04:24:44Z  2017-06-01T00:01:36Z  2017-07-14T04:24:46Z  \n",
       "3   2016-04-19T14:03:21Z  2016-05-05T14:34:56Z  2016-04-19T14:03:22Z  \n",
       "4   2017-07-14T05:12:50Z  2017-04-27T17:09:29Z  2017-07-14T05:12:52Z  \n",
       "5   2016-08-28T05:37:47Z  2016-08-21T23:53:30Z  2016-08-28T05:37:48Z  \n",
       "6   2016-08-12T11:01:12Z  2016-08-10T16:07:00Z  2016-08-12T11:01:18Z  \n",
       "7   2016-06-07T23:53:03Z  2016-04-28T18:11:06Z  2016-06-07T23:53:04Z  \n",
       "8   2016-03-02T20:02:55Z  2016-03-02T20:21:03Z  2016-03-02T20:02:55Z  \n",
       "9   2016-01-29T20:44:41Z  2016-01-29T20:56:23Z  2016-01-29T20:44:44Z  \n",
       "10  2015-09-04T15:20:31Z  2015-09-04T15:58:10Z  2015-09-04T15:20:31Z  \n",
       "11  2015-04-02T20:45:44Z  2015-04-02T21:33:51Z  2015-02-08T05:51:12Z  \n",
       "12  2019-11-13T05:44:31Z  2016-02-07T04:12:12Z  2019-11-13T05:44:33Z  \n",
       "13  2018-09-11T06:29:11Z  2016-02-07T04:12:12Z  2018-09-11T06:29:13Z  \n",
       "14  2018-06-25T16:48:15Z  2016-02-07T04:12:12Z  2018-06-25T16:48:16Z  \n",
       "15  2017-05-14T04:13:00Z  2016-02-07T04:12:12Z  2017-05-14T04:13:02Z  \n",
       "16  2017-03-02T16:42:51Z  2017-04-05T15:11:36Z  2017-03-02T16:42:54Z  \n",
       "17  2016-03-30T19:40:34Z  2016-03-14T20:31:40Z  2019-11-26T19:08:10Z  "
      ]
     },
     "execution_count": 90,
     "metadata": {},
     "output_type": "execute_result"
    }
   ],
   "source": [
    "colnames = ['repo_name', 'fork_full_name', 'created_at', 'pushed_at', 'updated_at'] # set column names\n",
    "\n",
    "info = []\n",
    "with open('fork_time.pkl', 'rb') as fr:\n",
    "    try:\n",
    "        while True:\n",
    "            info.append(pickle.load(fr))\n",
    "    except EOFError:\n",
    "        pass\n",
    "    \n",
    "repo_info = pd.DataFrame(info, columns=colnames)\n",
    "repo_info"
   ]
  }
 ],
 "metadata": {
  "kernelspec": {
   "display_name": "Python 3",
   "language": "python",
   "name": "python3"
  },
  "language_info": {
   "codemirror_mode": {
    "name": "ipython",
    "version": 3
   },
   "file_extension": ".py",
   "mimetype": "text/x-python",
   "name": "python",
   "nbconvert_exporter": "python",
   "pygments_lexer": "ipython3",
   "version": "3.7.1"
  },
  "latex_envs": {
   "LaTeX_envs_menu_present": true,
   "autoclose": false,
   "autocomplete": true,
   "bibliofile": "biblio.bib",
   "cite_by": "apalike",
   "current_citInitial": 1,
   "eqLabelWithNumbers": true,
   "eqNumInitial": 1,
   "hotkeys": {
    "equation": "Ctrl-E",
    "itemize": "Ctrl-I"
   },
   "labels_anchors": false,
   "latex_user_defs": false,
   "report_style_numbering": false,
   "user_envs_cfg": false
  },
  "toc": {
   "base_numbering": 1,
   "nav_menu": {},
   "number_sections": true,
   "sideBar": true,
   "skip_h1_title": false,
   "title_cell": "Table of Contents",
   "title_sidebar": "Contents",
   "toc_cell": false,
   "toc_position": {},
   "toc_section_display": true,
   "toc_window_display": false
  },
  "varInspector": {
   "cols": {
    "lenName": 16,
    "lenType": 16,
    "lenVar": 40
   },
   "kernels_config": {
    "python": {
     "delete_cmd_postfix": "",
     "delete_cmd_prefix": "del ",
     "library": "var_list.py",
     "varRefreshCmd": "print(var_dic_list())"
    },
    "r": {
     "delete_cmd_postfix": ") ",
     "delete_cmd_prefix": "rm(",
     "library": "var_list.r",
     "varRefreshCmd": "cat(var_dic_list()) "
    }
   },
   "types_to_exclude": [
    "module",
    "function",
    "builtin_function_or_method",
    "instance",
    "_Feature"
   ],
   "window_display": false
  }
 },
 "nbformat": 4,
 "nbformat_minor": 2
}
